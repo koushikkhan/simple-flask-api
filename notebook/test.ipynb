{
 "cells": [
  {
   "cell_type": "code",
   "execution_count": 6,
   "id": "affecting-procurement",
   "metadata": {},
   "outputs": [
    {
     "data": {
      "text/html": [
       "<link media=\"all\" href=\"https://cdnjs.cloudflare.com/ajax/libs/nvd3/1.7.0/nv.d3.min.css\" type=\"text/css\"\n",
       "                        rel=\"stylesheet\"/>"
      ],
      "text/plain": [
       "<IPython.core.display.HTML object>"
      ]
     },
     "metadata": {},
     "output_type": "display_data"
    },
    {
     "data": {
      "application/javascript": [
       "$.getScript(\"https://cdnjs.cloudflare.com/ajax/libs/nvd3/1.7.0/nv.d3.min.js\")"
      ],
      "text/plain": [
       "<IPython.core.display.Javascript object>"
      ]
     },
     "metadata": {},
     "output_type": "display_data"
    },
    {
     "data": {
      "application/javascript": [
       "$.getScript(\"https://cdnjs.cloudflare.com/ajax/libs/d3/3.5.5/d3.min.js\", function() {\n",
       "                              $.getScript(\"https://cdnjs.cloudflare.com/ajax/libs/nvd3/1.7.0/nv.d3.min.js\", function() {})});"
      ],
      "text/plain": [
       "<IPython.core.display.Javascript object>"
      ]
     },
     "metadata": {},
     "output_type": "display_data"
    },
    {
     "data": {
      "text/html": [
       "<script src=\"https://cdnjs.cloudflare.com/ajax/libs/d3/3.5.5/d3.min.js\"></script>"
      ],
      "text/plain": [
       "<IPython.core.display.HTML object>"
      ]
     },
     "metadata": {},
     "output_type": "display_data"
    },
    {
     "data": {
      "text/html": [
       "<script src=\"https://cdnjs.cloudflare.com/ajax/libs/nvd3/1.7.0/nv.d3.min.js\"></script>"
      ],
      "text/plain": [
       "<IPython.core.display.HTML object>"
      ]
     },
     "metadata": {},
     "output_type": "display_data"
    }
   ],
   "source": [
    "import numpy as np\n",
    "import nvd3\n",
    "from pprint import pprint\n",
    "\n",
    "\n",
    "nvd3.ipynb.initialize_javascript(use_remote=True)\n",
    "np.random.seed(100)\n",
    "\n",
    "from IPython.display import display, HTML"
   ]
  },
  {
   "cell_type": "code",
   "execution_count": 10,
   "id": "secondary-librarian",
   "metadata": {},
   "outputs": [],
   "source": [
    "# chart_type = 'discreteBarChart'\n",
    "# chart = nvd3.discreteBarChart(name=chart_type, height=500, width=500)\n",
    "\n",
    "# ydata = [float(x) for x in np.random.randn(10)]\n",
    "# xdata = [int(x) for x in np.arange(10)]\n",
    "\n",
    "# chart.add_serie(y=ydata, x=xdata)\n",
    "# chart.buildhtml()\n",
    "# chart_html = chart.htmlcontent\n",
    "\n",
    "# from nvd3 import pieChart\n",
    "type = 'pieChart'\n",
    "chart = nvd3.pieChart(name=type, color_category='category20c', height=450, width=450)\n",
    "xdata = [\"Orange\", \"Banana\", \"Pear\", \"Kiwi\", \"Apple\", \"Strawberry\", \"Pineapple\"]\n",
    "ydata = [3, 4, 0, 1, 5, 7, 3]\n",
    "extra_serie = {\"tooltip\": {\"y_start\": \"\", \"y_end\": \" cal\"}}\n",
    "chart.add_serie(y=ydata, x=xdata, extra=extra_serie)\n",
    "chart.buildcontent()"
   ]
  },
  {
   "cell_type": "code",
   "execution_count": 19,
   "id": "military-christopher",
   "metadata": {},
   "outputs": [
    {
     "name": "stdout",
     "output_type": "stream",
     "text": [
      "('\\n'\n",
      " '    <div id=\"piechart\"><svg style=\"width:450px;height:450px;\"></svg></div>\\n'\n",
      " '\\n'\n",
      " '\\n'\n",
      " '    <script>\\n'\n",
      " '\\n'\n",
      " '\\n'\n",
      " '\\n'\n",
      " '    data_piechart=[{\"values\": [{\"label\": \"Orange\", \"value\": 3}, {\"label\": '\n",
      " '\"Banana\", \"value\": 4}, {\"label\": \"Pear\", \"value\": 0}, {\"label\": \"Kiwi\", '\n",
      " '\"value\": 1}, {\"label\": \"Apple\", \"value\": 5}, {\"label\": \"Strawberry\", '\n",
      " '\"value\": 7}, {\"label\": \"Pineapple\", \"value\": 3}], \"key\": \"Serie 1\"}];\\n'\n",
      " '\\n'\n",
      " '    nv.addGraph(function() {\\n'\n",
      " '        var chart = nv.models.pieChart();\\n'\n",
      " '        chart.margin({top: 30, right: 60, bottom: 20, left: 60});\\n'\n",
      " '        var datum = data_piechart[0].values;\\n'\n",
      " '\\n'\n",
      " '        chart.color(d3.scale.category20c().range());\\n'\n",
      " '\\n'\n",
      " '    chart.tooltipContent(function(key, y, e, graph) {\\n'\n",
      " '          var x = String(key);\\n'\n",
      " \"              var y =  String(y)  + ' cal';\\n\"\n",
      " '\\n'\n",
      " \"              tooltip_str = '<center><b>'+x+'</b></center>' + y;\\n\"\n",
      " '              return tooltip_str;\\n'\n",
      " '              });\\n'\n",
      " '        chart.showLabels(true);\\n'\n",
      " '\\n'\n",
      " '            chart.donut(false);\\n'\n",
      " '\\n'\n",
      " '    chart.showLegend(true);\\n'\n",
      " '\\n'\n",
      " '\\n'\n",
      " '\\n'\n",
      " '\\n'\n",
      " '        chart\\n'\n",
      " '            .x(function(d) { return d.label })\\n'\n",
      " '            .y(function(d) { return d.value });\\n'\n",
      " '\\n'\n",
      " '        chart.width(450);\\n'\n",
      " '\\n'\n",
      " '        chart.height(450);\\n'\n",
      " '\\n'\n",
      " '\\n'\n",
      " \"            d3.select('#piechart svg')\\n\"\n",
      " '            .datum(datum)\\n'\n",
      " '            .transition().duration(500)\\n'\n",
      " \"            .attr('width', 450)\\n\"\n",
      " \"            .attr('height', 450)\\n\"\n",
      " '            .call(chart);\\n'\n",
      " '\\n'\n",
      " '\\n'\n",
      " '        });\\n'\n",
      " '\\n'\n",
      " '\\n'\n",
      " '\\n'\n",
      " '    </script>\\n')\n"
     ]
    }
   ],
   "source": [
    "pprint(chart.htmlcontent)\n",
    "\n",
    "with open('test.html', 'w') as f:\n",
    "    f.write(chart.htmlcontent)"
   ]
  },
  {
   "cell_type": "code",
   "execution_count": 13,
   "id": "speaking-friday",
   "metadata": {},
   "outputs": [
    {
     "data": {
      "text/html": [
       "\n",
       "    <div id=\"piechart\"><svg style=\"width:450px;height:450px;\"></svg></div>\n",
       "\n",
       "\n",
       "    <script>\n",
       "\n",
       "\n",
       "\n",
       "    data_piechart=[{\"values\": [{\"label\": \"Orange\", \"value\": 3}, {\"label\": \"Banana\", \"value\": 4}, {\"label\": \"Pear\", \"value\": 0}, {\"label\": \"Kiwi\", \"value\": 1}, {\"label\": \"Apple\", \"value\": 5}, {\"label\": \"Strawberry\", \"value\": 7}, {\"label\": \"Pineapple\", \"value\": 3}], \"key\": \"Serie 1\"}];\n",
       "\n",
       "    nv.addGraph(function() {\n",
       "        var chart = nv.models.pieChart();\n",
       "        chart.margin({top: 30, right: 60, bottom: 20, left: 60});\n",
       "        var datum = data_piechart[0].values;\n",
       "\n",
       "        chart.color(d3.scale.category20c().range());\n",
       "\n",
       "    chart.tooltipContent(function(key, y, e, graph) {\n",
       "          var x = String(key);\n",
       "              var y =  String(y)  + ' cal';\n",
       "\n",
       "              tooltip_str = '<center><b>'+x+'</b></center>' + y;\n",
       "              return tooltip_str;\n",
       "              });\n",
       "        chart.showLabels(true);\n",
       "\n",
       "            chart.donut(false);\n",
       "\n",
       "    chart.showLegend(true);\n",
       "\n",
       "\n",
       "\n",
       "\n",
       "        chart\n",
       "            .x(function(d) { return d.label })\n",
       "            .y(function(d) { return d.value });\n",
       "\n",
       "        chart.width(450);\n",
       "\n",
       "        chart.height(450);\n",
       "\n",
       "\n",
       "            d3.select('#piechart svg')\n",
       "            .datum(datum)\n",
       "            .transition().duration(500)\n",
       "            .attr('width', 450)\n",
       "            .attr('height', 450)\n",
       "            .call(chart);\n",
       "\n",
       "\n",
       "        });\n",
       "\n",
       "\n",
       "\n",
       "    </script>\n"
      ],
      "text/plain": [
       "<IPython.core.display.HTML object>"
      ]
     },
     "metadata": {},
     "output_type": "display_data"
    }
   ],
   "source": [
    "display(HTML(chart.htmlcontent))"
   ]
  },
  {
   "cell_type": "code",
   "execution_count": null,
   "id": "union-emerald",
   "metadata": {},
   "outputs": [],
   "source": []
  }
 ],
 "metadata": {
  "kernelspec": {
   "display_name": "Python 3",
   "language": "python",
   "name": "python3"
  },
  "language_info": {
   "codemirror_mode": {
    "name": "ipython",
    "version": 3
   },
   "file_extension": ".py",
   "mimetype": "text/x-python",
   "name": "python",
   "nbconvert_exporter": "python",
   "pygments_lexer": "ipython3",
   "version": "3.9.1"
  }
 },
 "nbformat": 4,
 "nbformat_minor": 5
}
